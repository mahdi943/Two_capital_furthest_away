{
  "nbformat": 4,
  "nbformat_minor": 0,
  "metadata": {
    "colab": {
      "name": "Mahdi_Alipour_Question2.ipynb",
      "provenance": [],
      "collapsed_sections": [],
      "include_colab_link": true
    },
    "kernelspec": {
      "name": "python3",
      "display_name": "Python 3"
    },
    "language_info": {
      "name": "python"
    }
  },
  "cells": [
    {
      "cell_type": "markdown",
      "metadata": {
        "id": "view-in-github",
        "colab_type": "text"
      },
      "source": [
        "<a href=\"https://colab.research.google.com/github/mahdi943/two_capital_furthest_away/blob/master/main.ipynb\" target=\"_parent\"><img src=\"https://colab.research.google.com/assets/colab-badge.svg\" alt=\"Open In Colab\"/></a>"
      ]
    },
    {
      "cell_type": "markdown",
      "source": [
        "\n",
        "###Using Capitals.txt dataset;\n",
        "Find two capital cities furthest away from each other and the distance between them."
      ],
      "metadata": {
        "id": "dyJX-Go5fQ1M"
      }
    },
    {
      "cell_type": "code",
      "execution_count": null,
      "metadata": {
        "id": "o6Oluxwndh22"
      },
      "outputs": [],
      "source": [
        "!apt-get update\n",
        "!apt-get install openjdk-8-jdk-headless -qq > /dev/null\n",
        "import os\n",
        "os.environ[\"JAVA_HOME\"] = \"/usr/lib/jvm/java-8-openjdk-amd64\"\n",
        "!update-alternatives --set java /usr/lib/jvm/java-8-openjdk-amd64/jre/bin/java\n",
        "!java -version\n",
        "!pip install pyspark"
      ]
    },
    {
      "cell_type": "markdown",
      "source": [
        "In the first step, we need removing double space characters as well as changing the ',' character in the float numbers to '.' in Capitals.txt"
      ],
      "metadata": {
        "id": "TGt1d8ExfwXy"
      }
    },
    {
      "cell_type": "code",
      "source": [
        "myFile = open('/content/drive/MyDrive/Colab-Notebooks/Big-data/HW1/Dataset/Cc.txt', 'w')\n",
        "with open('/content/drive/MyDrive/Colab-Notebooks/Big-data/HW1/Dataset/Capitals.txt', 'r') as f:\n",
        "  for line in f:\n",
        "    st = line.replace(' ', '').replace(',','.')\n",
        "    myFile.write(st)\n",
        "f.close()\n",
        "myFile.close()"
      ],
      "metadata": {
        "id": "Rawg0e6-f11g"
      },
      "execution_count": null,
      "outputs": []
    },
    {
      "cell_type": "markdown",
      "source": [
        "I did small change from Q-1 to sort from larg to small for distance. The result is two capital from Paraguay(Asunción) and Taiwan(Taipei)."
      ],
      "metadata": {
        "id": "yLUdHb7ooDwD"
      }
    },
    {
      "cell_type": "code",
      "source": [
        "from pyspark import SparkContext\n",
        "import math\n",
        "sc = SparkContext.getOrCreate()\n",
        "\n",
        "capRDD = sc.textFile(\"/content/drive/MyDrive/Colab-Notebooks/Big-data/HW1/Dataset/Cc.txt\")\n",
        "\n",
        "def saveCoord(line):\n",
        "    rec = line.split(\"\\t\")\n",
        "    name = rec[2]\n",
        "    lat = float(rec[3])\n",
        "    lng = float(rec[4])\n",
        "    return(name,lat,lng)\n",
        "\n",
        "capRDD1 = capRDD.map(lambda x : saveCoord(x) )\n",
        "capRDD2 = capRDD.map(lambda x : saveCoord(x) )\n",
        "\n",
        "capRDD3 = capRDD1.cartesian(capRDD2)\n",
        "capRDD3 = capRDD3.map(lambda x : x[0]+x[1])\n",
        "\n",
        "\n",
        "\n",
        "def distance(city1, city2, lat1, lon1, lat2, lon2):\n",
        "  if city1 != city2:\n",
        "    radius = 6371  # km\n",
        "    lat1 = float(lat1)\n",
        "    lon1 = float(lon1)\n",
        "    lat2 = float(lat2)\n",
        "    lon2 = float(lon2)\n",
        "    dlat = math.radians(lat2 - lat1)\n",
        "    dlon = math.radians(lon2 - lon1)\n",
        "    a = (math.sin(dlat / 2) * math.sin(dlat / 2) +\n",
        "      math.cos(math.radians(lat1)) *\n",
        "      math.cos(math.radians(lat2)) * math.sin(dlon / 2) *\n",
        "      math.sin(dlon / 2))\n",
        "    c = 2 * math.atan2(math.sqrt(a), math.sqrt(1 - a))\n",
        "    d = radius * c\n",
        "    return (city1,city2,d)\n",
        "\n",
        "\n",
        "capRDD3 = capRDD3.map(lambda x : distance(x[0],x[3],x[1],x[2],x[4],x[5]))\n",
        "#print(capRDD3.take(10))\n",
        "\n",
        "# since we applide cartesian, we should apply filter for both \n",
        "capRDD3  = capRDD3.filter(lambda x: x is not None)\n",
        "capRDD3 = capRDD3.sortBy(lambda x : x[2],ascending=False)\n",
        "\n",
        "print(\"Two furthest capital cities in the world:\",capRDD3.take(1))"
      ],
      "metadata": {
        "colab": {
          "base_uri": "https://localhost:8080/"
        },
        "id": "NMnTdezef4jm",
        "outputId": "cdd646d4-283a-41b2-be45-00563e7547c2"
      },
      "execution_count": null,
      "outputs": [
        {
          "output_type": "stream",
          "name": "stdout",
          "text": [
            "Two furthest capital cities in the world: [('Asunción', 'Taipei', 19927.05728016978)]\n"
          ]
        }
      ]
    }
  ]
}